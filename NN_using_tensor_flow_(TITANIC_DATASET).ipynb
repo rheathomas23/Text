{
 "cells": [
  {
   "cell_type": "code",
   "execution_count": 1,
   "metadata": {},
   "outputs": [],
   "source": [
    "import numpy as np\n",
    "import pandas as pd\n",
    "from sklearn import preprocessing\n",
    "%matplotlib inline\n",
    "import matplotlib.pyplot as plt\n",
    "import tensorflow as tf\n",
    "from tensorflow.python.framework import ops"
   ]
  },
  {
   "cell_type": "markdown",
   "metadata": {},
   "source": [
    "ops, inplace, axis , embarked column in titanic dataset ?????????, min_max_scaler, astype"
   ]
  },
  {
   "cell_type": "code",
   "execution_count": 2,
   "metadata": {},
   "outputs": [
    {
     "data": {
      "text/html": [
       "<div>\n",
       "<style scoped>\n",
       "    .dataframe tbody tr th:only-of-type {\n",
       "        vertical-align: middle;\n",
       "    }\n",
       "\n",
       "    .dataframe tbody tr th {\n",
       "        vertical-align: top;\n",
       "    }\n",
       "\n",
       "    .dataframe thead th {\n",
       "        text-align: right;\n",
       "    }\n",
       "</style>\n",
       "<table border=\"1\" class=\"dataframe\">\n",
       "  <thead>\n",
       "    <tr style=\"text-align: right;\">\n",
       "      <th></th>\n",
       "      <th>Pclass</th>\n",
       "      <th>Survived</th>\n",
       "    </tr>\n",
       "  </thead>\n",
       "  <tbody>\n",
       "    <tr>\n",
       "      <th>0</th>\n",
       "      <td>1</td>\n",
       "      <td>0.629630</td>\n",
       "    </tr>\n",
       "    <tr>\n",
       "      <th>1</th>\n",
       "      <td>2</td>\n",
       "      <td>0.472826</td>\n",
       "    </tr>\n",
       "    <tr>\n",
       "      <th>2</th>\n",
       "      <td>3</td>\n",
       "      <td>0.242363</td>\n",
       "    </tr>\n",
       "  </tbody>\n",
       "</table>\n",
       "</div>"
      ],
      "text/plain": [
       "   Pclass  Survived\n",
       "0       1  0.629630\n",
       "1       2  0.472826\n",
       "2       3  0.242363"
      ]
     },
     "execution_count": 2,
     "metadata": {},
     "output_type": "execute_result"
    }
   ],
   "source": [
    "train = pd.read_csv(\"titanic_train.csv\")\n",
    "test = pd.read_csv(\"titanic_test.csv\")\n",
    "\n",
    "#Performing EDA on Titanic dataset\n",
    "train[['Pclass', 'Survived']].groupby(['Pclass'], as_index = False).mean().sort_values(by = 'Survived', ascending = False)"
   ]
  },
  {
   "cell_type": "code",
   "execution_count": 3,
   "metadata": {},
   "outputs": [],
   "source": [
    "#Removing unnecessary features\n",
    "for df in [train, test]:\n",
    "    df.drop(labels = ['PassengerId', 'Cabin', 'Name', 'Ticket'], axis = 1, inplace = True)"
   ]
  },
  {
   "cell_type": "code",
   "execution_count": 4,
   "metadata": {},
   "outputs": [],
   "source": [
    "#Fill missing values \n",
    "for df in [test, train]:\n",
    "    for col in ['Age', 'Fare']:\n",
    "        df[col] = df[col].fillna(np.mean(df[col]))"
   ]
  },
  {
   "cell_type": "code",
   "execution_count": 5,
   "metadata": {},
   "outputs": [],
   "source": [
    "#Data normalization \n",
    "min_max_scaler = preprocessing.MinMaxScaler()\n",
    "for df in [train, test]:\n",
    "    for col in ['Age', 'Fare']:\n",
    "        x = df[[col]].values.astype(float)\n",
    "        df[col] = min_max_scaler.fit_transform(x)"
   ]
  },
  {
   "cell_type": "code",
   "execution_count": 6,
   "metadata": {},
   "outputs": [
    {
     "data": {
      "text/html": [
       "<div>\n",
       "<style scoped>\n",
       "    .dataframe tbody tr th:only-of-type {\n",
       "        vertical-align: middle;\n",
       "    }\n",
       "\n",
       "    .dataframe tbody tr th {\n",
       "        vertical-align: top;\n",
       "    }\n",
       "\n",
       "    .dataframe thead th {\n",
       "        text-align: right;\n",
       "    }\n",
       "</style>\n",
       "<table border=\"1\" class=\"dataframe\">\n",
       "  <thead>\n",
       "    <tr style=\"text-align: right;\">\n",
       "      <th></th>\n",
       "      <th>Pclass</th>\n",
       "      <th>Sex</th>\n",
       "      <th>Age</th>\n",
       "      <th>SibSp</th>\n",
       "      <th>Parch</th>\n",
       "      <th>Fare</th>\n",
       "      <th>Embarked</th>\n",
       "    </tr>\n",
       "  </thead>\n",
       "  <tbody>\n",
       "    <tr>\n",
       "      <th>0</th>\n",
       "      <td>3</td>\n",
       "      <td>male</td>\n",
       "      <td>0.452723</td>\n",
       "      <td>0</td>\n",
       "      <td>0</td>\n",
       "      <td>0.015282</td>\n",
       "      <td>Q</td>\n",
       "    </tr>\n",
       "    <tr>\n",
       "      <th>1</th>\n",
       "      <td>3</td>\n",
       "      <td>female</td>\n",
       "      <td>0.617566</td>\n",
       "      <td>1</td>\n",
       "      <td>0</td>\n",
       "      <td>0.013663</td>\n",
       "      <td>S</td>\n",
       "    </tr>\n",
       "    <tr>\n",
       "      <th>2</th>\n",
       "      <td>2</td>\n",
       "      <td>male</td>\n",
       "      <td>0.815377</td>\n",
       "      <td>0</td>\n",
       "      <td>0</td>\n",
       "      <td>0.018909</td>\n",
       "      <td>Q</td>\n",
       "    </tr>\n",
       "    <tr>\n",
       "      <th>3</th>\n",
       "      <td>3</td>\n",
       "      <td>male</td>\n",
       "      <td>0.353818</td>\n",
       "      <td>0</td>\n",
       "      <td>0</td>\n",
       "      <td>0.016908</td>\n",
       "      <td>S</td>\n",
       "    </tr>\n",
       "    <tr>\n",
       "      <th>4</th>\n",
       "      <td>3</td>\n",
       "      <td>female</td>\n",
       "      <td>0.287881</td>\n",
       "      <td>1</td>\n",
       "      <td>1</td>\n",
       "      <td>0.023984</td>\n",
       "      <td>S</td>\n",
       "    </tr>\n",
       "  </tbody>\n",
       "</table>\n",
       "</div>"
      ],
      "text/plain": [
       "   Pclass     Sex       Age  SibSp  Parch      Fare Embarked\n",
       "0       3    male  0.452723      0      0  0.015282        Q\n",
       "1       3  female  0.617566      1      0  0.013663        S\n",
       "2       2    male  0.815377      0      0  0.018909        Q\n",
       "3       3    male  0.353818      0      0  0.016908        S\n",
       "4       3  female  0.287881      1      1  0.023984        S"
      ]
     },
     "execution_count": 6,
     "metadata": {},
     "output_type": "execute_result"
    }
   ],
   "source": [
    "df.head()"
   ]
  },
  {
   "cell_type": "code",
   "execution_count": 7,
   "metadata": {},
   "outputs": [],
   "source": [
    "#transform string\n",
    "for df in [train, test]:\n",
    "    #remove duplicate features to avoid overfitting\n",
    "    #df['is_male'] = np.where(df['Sex']==\"male\", 1, 0)\n",
    "    df['is_female'] = np.where(df['Sex']==\"female\", 1, 0)\n",
    "    df['EmbarkedS'] = np.where(df['Embarked']==\"S\", 1, 0)\n",
    "    df['EmbarkedC'] = np.where(df['Embarked']==\"C\", 1, 0)\n",
    "    df['EmbarkedQ'] = np.where(df['Embarked']==\"Q\", 1, 0)\n",
    "    df['Pclass1'] = np.where(df['Pclass']==1, 1, 0)\n",
    "    df['Pclass2'] = np.where(df['Pclass']==2, 1, 0)\n",
    "    df['Pclass3'] = np.where(df['Pclass']==3, 1, 0)\n",
    "    df['is_single'] = np.where(np.logical_and(df['SibSp']==0, df['Parch']==0), 1, 0)"
   ]
  },
  {
   "cell_type": "code",
   "execution_count": 8,
   "metadata": {},
   "outputs": [],
   "source": [
    "#then remove transformed columns\n",
    "for df in [train, test]:\n",
    "    df.drop(labels=[\"Sex\", \"Embarked\", 'Pclass'], axis=1, inplace=True)"
   ]
  },
  {
   "cell_type": "code",
   "execution_count": 89,
   "metadata": {},
   "outputs": [],
   "source": [
    "#load up train/validation set! \n",
    "train_size = train.shape[0]\n",
    "\n",
    "train_dataset = train[:int(train_size/2)]\n",
    "val_dataset = train[int(train_size/2):]\n",
    "\n",
    "X_train = train_dataset.drop(labels=[\"Survived\"], axis=1).values #.values returns a numpy array, not a Pandas dataframe. An array does not have a columns attribute.\n",
    "Y_train = train_dataset[\"Survived\"].values\n",
    "\n",
    "X_val = val_dataset.drop(labels=[\"Survived\"], axis=1).values\n",
    "Y_val = val_dataset[\"Survived\"].values\n",
    "\n",
    "input_size = len(train_dataset.columns) - 1# number of final features "
   ]
  },
  {
   "cell_type": "code",
   "execution_count": 91,
   "metadata": {},
   "outputs": [],
   "source": [
    "X_train = X_train.reshape((X_train.shape[1], X_train.shape[0]))\n",
    "X_val = X_val.reshape((X_val.shape[1], X_val.shape[0]))\n",
    "\n",
    "Y_train = Y_train.reshape((1, Y_train.shape[0]))\n",
    "Y_val = Y_val.reshape((1, Y_val.shape[0]))"
   ]
  },
  {
   "cell_type": "code",
   "execution_count": 92,
   "metadata": {
    "scrolled": true
   },
   "outputs": [
    {
     "data": {
      "text/plain": [
       "((12, 445), (12, 446), (1, 445), (1, 446))"
      ]
     },
     "execution_count": 92,
     "metadata": {},
     "output_type": "execute_result"
    }
   ],
   "source": [
    "X_train.shape, X_val.shape, Y_train.shape, Y_val.shape"
   ]
  },
  {
   "cell_type": "code",
   "execution_count": 93,
   "metadata": {},
   "outputs": [],
   "source": [
    "def create_placeholders(n_x, n_y):\n",
    "    X = tf.placeholder(tf.float32, shape = [n_x, None])\n",
    "    Y = tf.placeholder(tf.float32, shape = [n_y, None])\n",
    "    return X, Y"
   ]
  },
  {
   "cell_type": "code",
   "execution_count": 108,
   "metadata": {},
   "outputs": [],
   "source": [
    "def initialize_parameters():\n",
    "    output_size = 1\n",
    "    l1_nodes = 100 #Number of nodes in the first hidden layer\n",
    "    l2_nodes = 100 #Number of nodes in the second hidden layer\n",
    "    l3_nodes = output_size \n",
    "    l4_nodes = output_size\n",
    "    \n",
    "    #input to first hidden layer\n",
    "    W1 = tf.get_variable(\"W1\", [l1_nodes, input_size])\n",
    "    b1 = tf.get_variable(\"b1\", [l1_nodes, 1])\n",
    "    \n",
    "    #first hidden layer to second hidden layer\n",
    "    W2 = tf.get_variable(\"W2\", [l2_nodes, l1_nodes])\n",
    "    b2 = tf.get_variable(\"b2\", [l2_nodes, 1])\n",
    "    \n",
    "    #second hidden layer to third hidden layer\n",
    "    W3 = tf.get_variable(\"W3\", [l3_nodes, l2_nodes])\n",
    "    b3 = tf.get_variable(\"b3\", [l3_nodes, 1])\n",
    "    \n",
    "    #third hidden layer to output layer\n",
    "    W4 = tf.get_variable(\"W4\", [l4_nodes, l3_nodes])\n",
    "    b4 = tf.get_variable(\"b4\", [l4_nodes, 1])\n",
    "\n",
    "    parameters = {\"W1\": W1,\n",
    "                  \"b1\": b1,\n",
    "                  \"W2\": W2,\n",
    "                  \"b2\": b2,\n",
    "                  \"W3\": W3,\n",
    "                  \"b3\": b3,\n",
    "                  \"W4\": W4,\n",
    "                  \"b4\": b4\n",
    "                 }\n",
    "\n",
    "    return parameters"
   ]
  },
  {
   "cell_type": "code",
   "execution_count": 109,
   "metadata": {},
   "outputs": [],
   "source": [
    "def forward_propagation_for_predict(X, parameters):\n",
    "    \"\"\"\n",
    "    Returns: Z3 -- the output of the last LINEAR unit\n",
    "    \"\"\"\n",
    "    W1 = parameters['W1']\n",
    "    b1 = parameters['b1']\n",
    "    W2 = parameters['W2']\n",
    "    b2 = parameters['b2']\n",
    "    W3 = parameters['W3']\n",
    "    b3 = parameters['b3']\n",
    "    W4 = parameters['W4']\n",
    "    b4 = parameters['b4']\n",
    "    # Numpy Equivalents:\n",
    "    Z1 = tf.add(tf.matmul(W1, X), b1)  # Z1 = np.dot(W1, X) + b1\n",
    "    A1 = tf.nn.relu(Z1)  # A1 = relu(Z1)\n",
    "    Z2 = tf.add(tf.matmul(W2, A1), b2)  # Z2 = np.dot(W2, a1) + b2\n",
    "    A2 = tf.nn.relu(Z2)  # A2 = relu(Z2)\n",
    "    Z3 = tf.add(tf.matmul(W3, A2), b3)  # Z3 = np.dot(W3,A2) + b3\n",
    "    A3 = tf.nn.relu(Z3)  # A3 = relu(Z3)\n",
    "    Z4 = tf.add(tf.matmul(W4, A3), b4)  # Z4 = np.dot(W4,A3) + b4\n",
    "\n",
    "    return Z4"
   ]
  },
  {
   "cell_type": "code",
   "execution_count": null,
   "metadata": {},
   "outputs": [],
   "source": []
  },
  {
   "cell_type": "code",
   "execution_count": 110,
   "metadata": {},
   "outputs": [],
   "source": [
    "def compute_cost(Z4, Y):\n",
    "    \"\"\"\n",
    "    Z3 -- output of forward propagation (output of the last LINEAR unit)\n",
    "    Y -- \"true\" labels vector placeholder, same shape as Z3\n",
    "    Return: cost - Tensor of the cost function\n",
    "    \"\"\"\n",
    "    # to fit the tensorflow requirement for tf.nn.softmax_cross_entropy_with_logits(...,...)\n",
    "    logits = tf.transpose(Z4)\n",
    "    labels = tf.transpose(Y)\n",
    "    cost = tf.reduce_mean(tf.nn.sigmoid_cross_entropy_with_logits(logits=logits, labels=labels))\n",
    "    return cost"
   ]
  },
  {
   "cell_type": "code",
   "execution_count": 111,
   "metadata": {},
   "outputs": [],
   "source": [
    "def model(X_train, Y_train, X_val, Y_val, learning_rate=0.0001,\n",
    "          num_epochs=1500, print_cost=True):\n",
    "    \"\"\"\n",
    "    Returns:\n",
    "    parameters -- parameters learnt by the model. They can then be used to predict.\n",
    "    \"\"\"\n",
    "    ops.reset_default_graph()  # to be able to rerun the model without overwriting tf variables\n",
    "    (n_x, m) = X_train.shape  # (n_x: input size, m : number of examples in the train set)\n",
    "    n_y = Y_train.shape[0]  # n_y : output size\n",
    "    costs, val_losses = [], []  # To keep track of the cost\n",
    "\n",
    "    X, Y = create_placeholders(n_x, n_y)\n",
    "    parameters = initialize_parameters()\n",
    "\n",
    "    # Forward propagation: Build the forward propagation in the tensorflow graph\n",
    "    Z4 = forward_propagation(X, parameters)\n",
    "\n",
    "    # Cost function: Add cost function to tensorflow graph\n",
    "    cost = compute_cost(Z4, Y)\n",
    "    val_cost = compute_cost(forward_propagation_for_predict(X, parameters), Y)\n",
    "\n",
    "    # Backpropagation: Define the tensorflow optimizer. Use an AdamOptimizer.\n",
    "    optimizer = tf.train.AdamOptimizer(learning_rate=learning_rate).minimize(cost)\n",
    "\n",
    "    # Initialize all the variables\n",
    "    init = tf.global_variables_initializer()\n",
    "    # Start the session to compute the tensorflow graph\n",
    "    with tf.Session() as sess:\n",
    "        sess.run(init)\n",
    "\n",
    "        # Do the training loop\n",
    "        for epoch in range(num_epochs):\n",
    "            _, epoch_cost = sess.run([optimizer, cost],\n",
    "                                     feed_dict={X: X_train, Y: Y_train})\n",
    "\n",
    "            # Print the cost every epoch\n",
    "            if print_cost == True and epoch % 5 == 0:\n",
    "                epoch_val_loss = sess.run(val_cost, feed_dict={X: X_val, Y: Y_val})\n",
    "                if epoch % 100 == 0:\n",
    "                    print (\"Loss after epoch %i: training[%f] | dev[%f]\" % (epoch, epoch_cost, epoch_val_loss))\n",
    "\n",
    "                val_losses.append(epoch_val_loss)\n",
    "                costs.append(epoch_cost)\n",
    "\n",
    "        # plot the cost\n",
    "        plt.plot(np.squeeze(costs))\n",
    "        plt.plot(np.squeeze(val_losses))\n",
    "        plt.legend([\"training\", \"test\"])\n",
    "        plt.xlabel('iterations (per tens)')\n",
    "        plt.title(\"Learning rate =\" + str(learning_rate))\n",
    "        plt.show()\n",
    "\n",
    "        # lets save the parameters in a variable\n",
    "        parameters = sess.run(parameters)\n",
    "        print (\"Parameters have been trained!\")\n",
    "\n",
    "        # Calculate the correct predictions\n",
    "        y_hat = tf.cast(tf.greater(tf.sigmoid(Z3),0.5), tf.float32)\n",
    "        correct_prediction = tf.equal(y_hat, Y)\n",
    "\n",
    "        # Calculate accuracy on the test set\n",
    "        accuracy = tf.reduce_mean(tf.cast(correct_prediction, \"float\"))\n",
    "\n",
    "        print (\"Train Accuracy: \", \"{:3.2f}%\".format(100*accuracy.eval({X: X_train, Y: Y_train})))\n",
    "        print (\"Test Accuracy:\", \"{:3.2f}%\".format(100*accuracy.eval({X: X_val, Y: Y_val})))\n",
    "\n",
    "        return parameters"
   ]
  },
  {
   "cell_type": "code",
   "execution_count": 112,
   "metadata": {},
   "outputs": [
    {
     "name": "stdout",
     "output_type": "stream",
     "text": [
      "Loss after epoch 0: training[0.766513] | dev[1.176674]\n",
      "Loss after epoch 100: training[0.625801] | dev[1.194413]\n",
      "Loss after epoch 200: training[0.553259] | dev[1.242013]\n",
      "Loss after epoch 300: training[0.500140] | dev[1.298023]\n",
      "Loss after epoch 400: training[0.443540] | dev[1.347195]\n",
      "Loss after epoch 500: training[0.394924] | dev[1.389285]\n",
      "Loss after epoch 600: training[0.373526] | dev[1.419718]\n",
      "Loss after epoch 700: training[0.336375] | dev[1.438069]\n",
      "Loss after epoch 800: training[0.316011] | dev[1.473721]\n",
      "Loss after epoch 900: training[0.326783] | dev[1.517208]\n",
      "Loss after epoch 1000: training[0.283629] | dev[1.544347]\n",
      "Loss after epoch 1100: training[0.260850] | dev[1.577456]\n",
      "Loss after epoch 1200: training[0.289666] | dev[1.602998]\n",
      "Loss after epoch 1300: training[0.224638] | dev[1.633281]\n",
      "Loss after epoch 1400: training[0.225459] | dev[1.646675]\n",
      "Loss after epoch 1500: training[0.205386] | dev[1.662461]\n",
      "Loss after epoch 1600: training[0.213153] | dev[1.687164]\n",
      "Loss after epoch 1700: training[0.206613] | dev[1.711140]\n",
      "Loss after epoch 1800: training[0.187366] | dev[1.711379]\n",
      "Loss after epoch 1900: training[0.168971] | dev[1.718302]\n"
     ]
    },
    {
     "data": {
      "image/png": "[encoded data removed]",
      "text/plain": [
       "<Figure size 432x288 with 1 Axes>"
      ]
     },
     "metadata": {
      "needs_background": "light"
     },
     "output_type": "display_data"
    },
    {
     "name": "stdout",
     "output_type": "stream",
     "text": [
      "Parameters have been trained!\n",
      "Train Accuracy:  92.13%\n",
      "Test Accuracy: 52.69%\n"
     ]
    }
   ],
   "source": [
    "parameters = model(X_train, Y_train, X_val, Y_val,learning_rate=0.001, num_epochs=2000)"
   ]
  }
 ],
 "metadata": {
  "kernelspec": {
   "display_name": "Python 3",
   "language": "python",
   "name": "python3"
  },
  "language_info": {
   "codemirror_mode": {
    "name": "ipython",
    "version": 3
   },
   "file_extension": ".py",
   "mimetype": "text/x-python",
   "name": "python",
   "nbconvert_exporter": "python",
   "pygments_lexer": "ipython3",
   "version": "3.7.3"
  }
 },
 "nbformat": 4,
 "nbformat_minor": 2
}
