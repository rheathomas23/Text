{
 "cells": [
  {
   "cell_type": "markdown",
   "metadata": {},
   "source": [
    "### Steps involved in constructing a basic XOR gate using Neural network\n",
    "\n",
    "- Initialize the weights and biases randomly.\n",
    "- Compute the predicted output using the sigmoid function\n",
    "- Compute the loss using the square error loss fucntion \n",
    "- Update the weights and biases after computing the error by\n",
    "  W(new) = W(old) - α*∆W, \n",
    "  B(new) = B(old) — α*∆B\n",
    "- Repeat the entire process (i.e forward and backward propagation) until the error is minimum."
   ]
  },
  {
   "cell_type": "code",
   "execution_count": 8,
   "metadata": {},
   "outputs": [],
   "source": [
    "import numpy as np"
   ]
  },
  {
   "cell_type": "code",
   "execution_count": 9,
   "metadata": {},
   "outputs": [],
   "source": [
    "#Declare the weights\n",
    "\n",
    "inputs = np.array([[0,0], [0,1], [1,0], [1,1]])\n",
    "expected_output = np.array([[0], [1], [1], [0]])"
   ]
  },
  {
   "cell_type": "code",
   "execution_count": 10,
   "metadata": {},
   "outputs": [],
   "source": [
    "#Initialize the weights with random values \n",
    "\n",
    "inputLayerNeurons, hiddenLayerNeurons, outputLayerNeurons = 2,2,1\n",
    "\n",
    "hidden_weights = np.random.uniform(size=(inputLayerNeurons, hiddenLayerNeurons))\n",
    "hidden_bias =np.random.uniform(size=(1, hiddenLayerNeurons))\n",
    "\n",
    "output_weights = np.random.uniform(size=(hiddenLayerNeurons, outputLayerNeurons))\n",
    "output_bias = np.random.uniform(size=(1, outputLayerNeurons))"
   ]
  },
  {
   "cell_type": "code",
   "execution_count": 11,
   "metadata": {},
   "outputs": [
    {
     "data": {
      "text/plain": [
       "(array([[0.91222677, 0.09789826],\n",
       "        [0.76273039, 0.87692956]]),\n",
       " array([[0.37462675, 0.18071997]]),\n",
       " array([[0.76756455],\n",
       "        [0.38030312]]),\n",
       " array([[0.22573093]]))"
      ]
     },
     "execution_count": 11,
     "metadata": {},
     "output_type": "execute_result"
    }
   ],
   "source": [
    "hidden_weights, hidden_bias, output_weights, output_bias"
   ]
  },
  {
   "cell_type": "code",
   "execution_count": 12,
   "metadata": {},
   "outputs": [],
   "source": [
    "#Forward propagation\n",
    "\n",
    "def forward_prop():\n",
    "    def sigmoid (x):\n",
    "        return 1/(1 + np.exp(-x))\n",
    "    \n",
    "    hidden_layer_activation = np.dot(inputs,hidden_weights)\n",
    "    hidden_layer_activation += hidden_bias\n",
    "\n",
    "    hidden_layer_output = sigmoid(hidden_layer_activation)\n",
    "\n",
    "    output_layer_activation = np.dot(hidden_layer_output,output_weights)\n",
    "    output_layer_activation += output_bias\n",
    "\n",
    "    predicted_output = sigmoid(output_layer_activation)\n",
    "    \n",
    "    return hidden_layer_output, predicted_output\n",
    "    "
   ]
  },
  {
   "cell_type": "code",
   "execution_count": 15,
   "metadata": {},
   "outputs": [],
   "source": [
    "#Backpropagation\n",
    "epochs = 1000000\n",
    "for i in range(epochs):  \n",
    "    \n",
    "    hidden_layer_output, predicted_output = forward_prop()\n",
    "    \n",
    "    def sigmoid_derivative(x):\n",
    "        return x * (1 - x)\n",
    "\n",
    "    lr = 0.1\n",
    "    \n",
    "    error = expected_output - predicted_output\n",
    "    d_predicted_output = error * sigmoid_derivative(predicted_output)\n",
    " \n",
    "    error_hidden_layer = d_predicted_output.dot(output_weights.T)\n",
    "    d_hidden_layer = error_hidden_layer * sigmoid_derivative(hidden_layer_output)\n",
    "\n",
    "    #Updating Weights and Biases\n",
    "    \n",
    "    output_weights += hidden_layer_output.T.dot(d_predicted_output) * lr\n",
    "    output_bias += np.sum(d_predicted_output,axis=0,keepdims=True) * lr\n",
    "    hidden_weights += inputs.T.dot(d_hidden_layer) * lr\n",
    "    hidden_bias += np.sum(d_hidden_layer,axis=0,keepdims=True) * lr\n",
    "    "
   ]
  },
  {
   "cell_type": "code",
   "execution_count": 17,
   "metadata": {},
   "outputs": [
    {
     "data": {
      "text/plain": [
       "array([[0.00392744],\n",
       "       [0.99670457],\n",
       "       [0.99669991],\n",
       "       [0.00335329]])"
      ]
     },
     "execution_count": 17,
     "metadata": {},
     "output_type": "execute_result"
    }
   ],
   "source": [
    "#XOR gate output\n",
    "\n",
    "predicted_output"
   ]
  }
 ],
 "metadata": {
  "kernelspec": {
   "display_name": "Python 3",
   "language": "python",
   "name": "python3"
  },
  "language_info": {
   "codemirror_mode": {
    "name": "ipython",
    "version": 3
   },
   "file_extension": ".py",
   "mimetype": "text/x-python",
   "name": "python",
   "nbconvert_exporter": "python",
   "pygments_lexer": "ipython3",
   "version": "3.7.3"
  }
 },
 "nbformat": 4,
 "nbformat_minor": 2
}
